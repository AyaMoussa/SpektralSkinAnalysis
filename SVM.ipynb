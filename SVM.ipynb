{
 "cells": [
  {
   "cell_type": "code",
   "execution_count": 1,
   "id": "fbd90e5b903749c9",
   "metadata": {
    "ExecuteTime": {
     "end_time": "2024-01-22T16:53:08.430360200Z",
     "start_time": "2024-01-22T16:52:54.284086500Z"
    },
    "collapsed": false
   },
   "outputs": [
    {
     "name": "stdout",
     "output_type": "stream",
     "text": [
      "[[1119.           26.15904832]\n",
      " [1049.           23.71720888]\n",
      " [ 835.           33.29205862]\n",
      " ...\n",
      " [ 738.           29.47340376]\n",
      " [ 681.           27.95164348]\n",
      " [1326.           19.86636391]] [1. 0. 1. ... 1. 1. 1.]\n"
     ]
    }
   ],
   "source": [
    "import pickle\n",
    "import pandas as pd\n",
    "import numpy as np\n",
    "import matplotlib.pyplot as plt\n",
    "\n",
    "from sklearn.svm import SVC\n",
    "from sklearn.ensemble import RandomForestClassifier as RFC\n",
    "from sklearn.model_selection import train_test_split\n",
    "from sklearn.metrics import accuracy_score, confusion_matrix, ConfusionMatrixDisplay\n",
    "\n",
    "fL = './ReadShowLeather/data/Leder.csv'\n",
    "fH = './ReadShowLeather/data/Holz.csv'\n",
    "fF = './ReadShowLeather/data/Fleisch.csv'\n",
    "fS = '2016skin.csv'\n",
    "fM = '2016material.csv'\n",
    "fMF = '2016material-fake.csv'\n",
    "\n",
    "Files = [fL, fH, fF, fM, fMF, fS]\n",
    "decimals = [',',',',',','.','.','.']\n",
    "Y_values= [0,0,0,0,0,1]\n",
    "\n",
    "data = np.zeros((1,3))\n",
    "for i, f in enumerate(Files):\n",
    "    df = pd.read_csv(f, delimiter=';',decimal=decimals[i], index_col=0)\n",
    "    df = df.dropna()\n",
    "    for col in df.columns:\n",
    "        Y=np.ones((len(df[col]),1))*Y_values[i]\n",
    "        X1=df.index.to_numpy().reshape((-1,1))\n",
    "        X2=df[col].to_numpy().reshape((-1,1))\n",
    "        d=np.hstack((X1,X2,Y))\n",
    "        data = np.vstack((data,d))\n",
    "np.random.shuffle(data)\n",
    "data = np.delete(data, 0, 0)\n",
    "\n",
    "X= data[:,:2].reshape((-1,2))\n",
    "Y= data[:,2]\n",
    "\n",
    "print(X, Y)"
   ]
  },
  {
   "cell_type": "code",
   "execution_count": 5,
   "id": "b8abfcc9",
   "metadata": {},
   "outputs": [
    {
     "name": "stdout",
     "output_type": "stream",
     "text": [
      "[LibSVM]."
     ]
    }
   ],
   "source": [
    "X_train, X_test, y_train, y_test = train_test_split(X, Y, test_size=0.2, train_size=0.8, random_state=42)\n",
    "\n",
    "# X_train, X_test, y_train, y_test = train_test_split(X[:100000], Y[:100000], test_size=0.2, train_size=0.8, random_state=42)\n",
    "\n",
    "svc_model = SVC(kernel='poly',\n",
    "                gamma = \"scale\",\n",
    "                max_iter = 10000,\n",
    "                verbose=True)\n",
    "\n",
    "# Train the model\n",
    "svc_model.fit(X_train, y_train)\n",
    "\n",
    "svc_y_pred = svc_model.predict(X_test)\n",
    "\n",
    "accuracy_svc = accuracy_score(y_test, svc_y_pred)\n",
    "print(\"SVC Accuracy:\", accuracy_svc)\n",
    "\n",
    "cm_svc = confusion_matrix(y_test, svc_y_pred)\n",
    "disp_svc = ConfusionMatrixDisplay(cm_svc)\n",
    "disp_svc.plot()\n"
   ]
  },
  {
   "cell_type": "code",
   "execution_count": 3,
   "id": "ecfd4bdf",
   "metadata": {},
   "outputs": [],
   "source": [
    "disp_svc.figure_.savefig(\"svc_plt.png\")"
   ]
  },
  {
   "cell_type": "code",
   "execution_count": null,
   "id": "ea3ddbbb",
   "metadata": {},
   "outputs": [],
   "source": []
  }
 ],
 "metadata": {
  "kernelspec": {
   "display_name": "Python 3",
   "language": "python",
   "name": "python3"
  },
  "language_info": {
   "codemirror_mode": {
    "name": "ipython",
    "version": 3
   },
   "file_extension": ".py",
   "mimetype": "text/x-python",
   "name": "python",
   "nbconvert_exporter": "python",
   "pygments_lexer": "ipython3",
   "version": "3.10.13"
  }
 },
 "nbformat": 4,
 "nbformat_minor": 5
}
