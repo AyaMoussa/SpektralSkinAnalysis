{
 "cells": [
  {
   "cell_type": "markdown",
   "source": [
    "In the below cell we combine all the data from all the files. Each column in each file is stacked to the nm column to form a data of shape nx2\n",
    "Labels are added, all data is considered dead and labled 0, except for data from 2016skin.csv file which is live skin and labeled 1."
   ],
   "metadata": {
    "collapsed": false
   },
   "id": "2f59c2895a580665"
  },
  {
   "cell_type": "code",
   "execution_count": 13,
   "outputs": [],
   "source": [
    "import numpy as np\n",
    "import pandas as pd\n",
    "from sklearn.ensemble import RandomForestClassifier as RFC\n",
    "from sklearn.model_selection import train_test_split\n",
    "from sklearn.metrics import accuracy_score, confusion_matrix, ConfusionMatrixDisplay\n",
    "\n",
    "fL = './ReadShowLeather/data/Leder.csv'\n",
    "fH = './ReadShowLeather/data/Holz.csv'\n",
    "fF = './ReadShowLeather/data/Fleisch.csv'\n",
    "fS = '2016skin.csv'\n",
    "fM = '2016material.csv'\n",
    "fMF = '2016material-fake.csv'\n",
    "\n",
    "Files = [fL, fH, fF, fM, fMF, fS]\n",
    "decimals = [',',',',',','.','.','.']\n",
    "Y_values= [0,0,0,0,0,1]\n",
    "\n",
    "data = np.zeros((1,3))\n",
    "for i, f in enumerate(Files):\n",
    "    df = pd.read_csv(f, delimiter=';',decimal=decimals[i], index_col=0)\n",
    "    df = df.dropna()\n",
    "    for col in df.columns:\n",
    "        Y=np.ones((len(df[col]),1))*Y_values[i]\n",
    "        X1=df.index.to_numpy().reshape((-1,1))\n",
    "        X2=df[col].to_numpy().reshape((-1,1))\n",
    "        d=np.hstack((X1,X2,Y))\n",
    "        data = np.vstack((data,d))\n",
    "np.random.shuffle(data)\n",
    "data = np.delete(data, 0, 0)\n",
    "\n",
    "X= data[:,:2].reshape((-1,2))\n",
    "Y= data[:,2]\n",
    "\n"
   ],
   "metadata": {
    "collapsed": false,
    "ExecuteTime": {
     "end_time": "2024-01-24T21:40:51.178381500Z",
     "start_time": "2024-01-24T21:40:18.241316300Z"
    }
   },
   "id": "fbd90e5b903749c9"
  },
  {
   "cell_type": "code",
   "execution_count": 14,
   "outputs": [
    {
     "name": "stderr",
     "output_type": "stream",
     "text": [
      "[Parallel(n_jobs=-1)]: Using backend ThreadingBackend with 12 concurrent workers.\n"
     ]
    },
    {
     "name": "stdout",
     "output_type": "stream",
     "text": [
      "building tree 1 of 30\n",
      "building tree 2 of 30\n",
      "building tree 3 of 30\n",
      "building tree 4 of 30\n",
      "building tree 5 of 30\n",
      "building tree 6 of 30\n",
      "building tree 7 of 30\n",
      "building tree 8 of 30\n",
      "building tree 9 of 30\n",
      "building tree 10 of 30\n",
      "building tree 11 of 30\n",
      "building tree 12 of 30\n",
      "building tree 13 of 30\n",
      "building tree 14 of 30\n",
      "building tree 15 of 30\n",
      "building tree 16 of 30\n",
      "building tree 17 of 30\n",
      "building tree 18 of 30building tree 19 of 30\n",
      "building tree 20 of 30\n",
      "building tree 21 of 30\n",
      "building tree 22 of 30\n",
      "building tree 23 of 30\n",
      "building tree 24 of 30\n",
      "building tree 25 of 30\n",
      "building tree 26 of 30\n",
      "building tree 27 of 30\n",
      "building tree 28 of 30\n",
      "building tree 29 of 30\n",
      "building tree 30 of 30\n"
     ]
    },
    {
     "name": "stderr",
     "output_type": "stream",
     "text": [
      "[Parallel(n_jobs=-1)]: Done  23 out of  30 | elapsed:   25.8s remaining:    7.8s\n",
      "[Parallel(n_jobs=-1)]: Done  30 out of  30 | elapsed:   34.4s finished\n",
      "[Parallel(n_jobs=12)]: Using backend ThreadingBackend with 12 concurrent workers.\n",
      "[Parallel(n_jobs=12)]: Done  23 out of  30 | elapsed:    0.4s remaining:    0.1s\n",
      "[Parallel(n_jobs=12)]: Done  30 out of  30 | elapsed:    0.5s finished\n"
     ]
    },
    {
     "name": "stdout",
     "output_type": "stream",
     "text": [
      "RFC Accuracy: 0.9406811817967707\n"
     ]
    },
    {
     "data": {
      "text/plain": "<sklearn.metrics._plot.confusion_matrix.ConfusionMatrixDisplay at 0x1beb9bbc490>"
     },
     "execution_count": 14,
     "metadata": {},
     "output_type": "execute_result"
    },
    {
     "data": {
      "text/plain": "<Figure size 640x480 with 2 Axes>",
      "image/png": "[encoded data removed]"
     },
     "metadata": {},
     "output_type": "display_data"
    }
   ],
   "source": [
    "# Load and preprocess your data (X_train, y_train, X_test, y_test)\n",
    "\n",
    "X_train, X_test, y_train, y_test = train_test_split(X, Y, test_size=0.2, train_size=0.8)\n",
    "\n",
    "#We add a weight to the classes to prioritize precision in favor of class 1 \n",
    "class_weights = {0:1, 1:55}\n",
    "rfc_model = RFC(n_estimators=30,max_depth=40,min_samples_leaf=10,min_samples_split=10,n_jobs=-1,class_weight=class_weights,verbose=2, random_state=0)\n",
    "\n",
    "# Train the model\n",
    "rfc_model.fit(X_train, y_train)\n",
    "\n",
    "#We adjust the decision threshold to make the model more conservative in predicting class 0. By lowering the threshold, you require a much higher level of confidence for a sample to be classified as class 0, reducing the risk of false negatives.\n",
    "threshold = 0.01  # Adjust the threshold as needed\n",
    "y_pred_prob = rfc_model.predict_proba(X_test)[:, 1]\n",
    "y_pred = (y_pred_prob > threshold).astype(int)\n",
    "\n",
    "\n",
    "accuracy_rfc = accuracy_score(y_test, y_pred)\n",
    "print(\"RFC Accuracy:\", accuracy_rfc)\n",
    "\n",
    "cm_rfc = confusion_matrix(y_test, y_pred)\n",
    "disp_rfc = ConfusionMatrixDisplay(cm_rfc)\n",
    "disp_rfc.plot()\n"
   ],
   "metadata": {
    "collapsed": false,
    "ExecuteTime": {
     "end_time": "2024-01-24T21:47:23.172559300Z",
     "start_time": "2024-01-24T21:46:46.463652500Z"
    }
   },
   "id": "1ab86f90cc40665"
  },
  {
   "cell_type": "code",
   "execution_count": 17,
   "outputs": [],
   "source": [
    "disp_rfc.figure_.savefig(\"./Img/RFC_FinalResult0_18k.png\")"
   ],
   "metadata": {
    "collapsed": false,
    "ExecuteTime": {
     "end_time": "2024-01-24T21:52:50.651142200Z",
     "start_time": "2024-01-24T21:52:50.572160100Z"
    }
   },
   "id": "1417f328e3a7d27b"
  },
  {
   "cell_type": "code",
   "execution_count": null,
   "outputs": [],
   "source": [],
   "metadata": {
    "collapsed": false
   },
   "id": "b5fc5f52e17b6ed2"
  }
 ],
 "metadata": {
  "kernelspec": {
   "display_name": "Python 3",
   "language": "python",
   "name": "python3"
  },
  "language_info": {
   "codemirror_mode": {
    "name": "ipython",
    "version": 2
   },
   "file_extension": ".py",
   "mimetype": "text/x-python",
   "name": "python",
   "nbconvert_exporter": "python",
   "pygments_lexer": "ipython2",
   "version": "2.7.6"
  }
 },
 "nbformat": 4,
 "nbformat_minor": 5
}
